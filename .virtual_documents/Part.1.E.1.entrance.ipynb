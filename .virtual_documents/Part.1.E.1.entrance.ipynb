


























from IPython.core.interactiveshell import InteractiveShell
InteractiveShell.ast_node_interactivity = "all"
# 请暂时忽略以上两行……

1 == 2
1 != 2
2 == 3

















print('(True and False) yields:',  True and False)
print('(True and True) yields:',  True and True)
print('(False and True) yields:',  False and True)
print('(True or False) yields:',  True or False)
print('(False or True) yields:',  False or True)
print('(False or False) yields:',  False or False)
print('(not True) yields:',  not True)
print('(not False) yields:',  not False)











import random
r = random.randrange(1, 1000)
# 请暂时忽略以上两句的原理，只需要了解其结果：
# 引入随机数，而后，每次执行的时候，r 的值不同

if r % 2 == 0:  # %用来计算除法的余数
    print(r, 'is even.')
else:
    print(r, 'is odd.')








for i in range(20):  # 含左侧不含右侧
    if i % 2 == 0:
        print(i)





for n in range(2,100):
    if n == 2:
        print(n)
        continue
    for i in range(2,n):
        if (n % i ) == 0:
            break
    else:
        print(n)
        








for n in range(2, 100):
    if n == 2:
        print(n)
        continue
    for i in range(2, int(n ** 0.5)+1): #为什么要 +1 以后再说…… n 的 1/2 次方，相当于根号 n。
        if (n % i) == 0:
            break
    else:
        print(n)         











a = abs(-3.1415926)
a











def is_prime(n):
    if n < 2:
        return False
    if n == 2:
        return True
    for i in range(2,int(n**0.5)+1):
        if (n % i) ==0:
            return False
    else: 
        return True

for m in range(80,120):
    if is_prime(m):
        print(m)











for i in range(10):
    if i % 2 != 0:
        print(i)


























x = 0
x += 1
print(x)





x = 11
x %= 3   # x = x % 3
print(x)












