





import matplotlib.pyplot as plt
import numpy as np

data = np.genfromtxt('life-expectancy-china-1960-2016.txt',
                     delimiter=',',
                     names=['x', 'y'])
da1960  = data[0][1]
da2016  = data[-1][1]
increase = (da2016 - da1960) / da1960
note = 'from {:.2f} in 1960 to {:.2f} in 2016, increased  {:.2%}'\
    .format(da1960, da2016, increase)

plt.figure(figsize=(10, 5))
plt.plot(data['x'], data['y'])
plt.ylabel('Life Expectancy from Birth')
plt.tick_params(axis='x', rotation=70)
plt.title('CHINA\n' + note)

# plt.savefig('life-expectancy-china-1960-2016.png', transparent=True)
plt.show()

# data from:
# https://databank.worldbank.org/data/reports.aspx?source=2&series=SP.DYN.LE00.IN





import matplotlib.pyplot as plt
import numpy as np
plt.figure(figsize=(10, 5)) # 图形比例长比宽 = 2:1

lebdata = np.genfromtxt('life-expectancy-china-1960-2016.txt', #读取txt文件里的文本数据，重点是数据
                        delimiter=',',      # 用逗号隔开
                        names=['x', 'y'])   # 创建一个列表，更准确的说是为每一列的数据指定命名

hdidata = np.genfromtxt('hdi-china-1870-2015.txt',
                        delimiter=',',
                        names=['x', 'y'])


plt.plot(hdidata['x'], hdidata['y'], label='Human Development Index')
plt.tick_params(axis='x', rotation=70)   # rotation是旋转的意思,这里指把横坐标的值逆时针旋转多少角度
plt.title('China: 1870 - 2016')          # 标题命名

plt.plot(lebdata['x'], lebdata['y'] * 0.005, label='Life Expectancy from Birth')
plt.plot(secondary_y=True)      # 第二个y轴？

plt.legend()  #图例

# plt.savefig('human-development-index-china-1870-2015.png', transparent=True)
plt.show()    

# link:
# https://ourworldindata.org/human-development-index

# data from:
# blob:https://ourworldindata.org/44b6da71-f79e-42ab-ab37-871e4bd256e9





import matplotlib.pyplot as plt # 不仅可以用来绘制直方图，还可以用来绘制饼图

labels = ['Major Match', '']   # 右下角的标签名，注意要用列表，逗号隔开，以及以下的都是列表
sizes = [273, 727]              # 各自占比
colors = ['#E2E2E2', '#6392BF']  # 区分两个不同的颜色
explode = (0, 0.4)             # 突出显示，0表示不突出，0.08表示向外突出8%，注意这里用的是元组
plt.figure(figsize=(9, 9))    # 创建一个7x7的正方形画布
plt.pie(sizes,
        labels=labels,
        explode=explode,
        autopct='%1.2f%%',     # 精确到小数点后面一位，改成1.2即可保留到小数点后面两位，其他同理
        colors=colors,
        startangle=270,       # 控制饼图绘制的起始角度270°表示从饼图顶部正中央顺时针开始绘制
        shadow=True)    # 轮廓阴影，增加立体感
# plt.savefig('major-match-job.png', transparent=True)     保存图片，True为背景透明
plt.show()

# data from:
# https://libertystreeteconomics.newyorkfed.org/2013/05/do-big-cities-help-college-graduates-find-better-jobs.html









